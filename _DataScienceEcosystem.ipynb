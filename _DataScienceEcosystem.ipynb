{
 "cells": [
  {
   "cell_type": "markdown",
   "id": "77c1da89-65e0-42de-b08c-52e990cb1ec3",
   "metadata": {},
   "source": [
    "# Data Science Tools and Ecosystem"
   ]
  },
  {
   "cell_type": "markdown",
   "id": "14b3bcaa-9987-432a-b0f2-454fc04376af",
   "metadata": {},
   "source": [
    "## In this notebook, Data Science Tools and Ecosystem are summarized."
   ]
  },
  {
   "cell_type": "markdown",
   "id": "139db8ac-2278-4c8e-97fa-93e76051e308",
   "metadata": {
    "tags": []
   },
   "source": [
    "### Some of the popular languages that Data Scientists use are:\n",
    "1. Python\n",
    "2. R\n",
    "3. SQL\n",
    "4. Julia\n",
    "5. Scala"
   ]
  },
  {
   "cell_type": "markdown",
   "id": "fc995e5b-14c4-49e5-85eb-3514a11d1a40",
   "metadata": {},
   "source": [
    "### Some of the commonly used libraries used by Data Scientists include:\n",
    "1. Pandas\n",
    "2. Numpy\n",
    "3. ggplot\n",
    "4. scikit-learn\n",
    "5. Matplotlib\n",
    "6. Beautifulsoup"
   ]
  },
  {
   "cell_type": "markdown",
   "id": "5e70ba6c-2bb7-40a1-8488-95ed8df05f5d",
   "metadata": {},
   "source": [
    "### Exercise 6 - Create a markdown cell with a table of Data Science tools"
   ]
  },
  {
   "cell_type": "markdown",
   "id": "f86abd5a-e38b-4a57-b729-c20324e594c4",
   "metadata": {},
   "source": [
    "| Data Science Tools            |\n",
    "| ----------------------------  |\n",
    "| Rstudio                       |\n",
    "| Jupyter Notebook / JupyterLab |\n",
    "| TensorFlow                    |"
   ]
  },
  {
   "cell_type": "markdown",
   "id": "155dec44-1df0-4aaf-84b7-554f501bbd2c",
   "metadata": {},
   "source": [
    "### Below are a few examples of evaluating arithmetic expressions in Python"
   ]
  },
  {
   "cell_type": "code",
   "execution_count": 3,
   "id": "1b50f8c4-cce4-4515-a791-57926f3e506a",
   "metadata": {},
   "outputs": [
    {
     "data": {
      "text/plain": [
       "17"
      ]
     },
     "execution_count": 3,
     "metadata": {},
     "output_type": "execute_result"
    }
   ],
   "source": [
    "# This a simple arithmetic expression to mutiply then add integers\n",
    "\n",
    "(3*4)+5"
   ]
  },
  {
   "cell_type": "code",
   "execution_count": 4,
   "id": "df314170-32f6-4f5f-bbd3-c73ddc0ec711",
   "metadata": {},
   "outputs": [
    {
     "data": {
      "text/plain": [
       "3.3333333333333335"
      ]
     },
     "execution_count": 4,
     "metadata": {},
     "output_type": "execute_result"
    }
   ],
   "source": [
    "# This will convert 200 minutes to hours by dividing by 60\n",
    "\n",
    "200 / 60"
   ]
  },
  {
   "cell_type": "markdown",
   "id": "5d059380-adaa-47ec-bde5-cc22116a9229",
   "metadata": {},
   "source": [
    "### Objectives:\n",
    "- Create markdown table\n",
    "- List coomonly used Data Science libraries\n",
    "- List popular Data Science open source languages\n",
    "- Evaluate Arithmetric Expressions"
   ]
  },
  {
   "cell_type": "markdown",
   "id": "5b158be0-a7f3-404f-8247-bff2c75c565f",
   "metadata": {},
   "source": [
    "## Author\n",
    "Mohammed Kamalidin"
   ]
  },
  {
   "cell_type": "code",
   "execution_count": null,
   "id": "8f57e8ac-10fe-4ef1-bf6f-46ec07abc6bd",
   "metadata": {},
   "outputs": [],
   "source": []
  }
 ],
 "metadata": {
  "kernelspec": {
   "display_name": "Python 3 (ipykernel)",
   "language": "python",
   "name": "python3"
  },
  "language_info": {
   "codemirror_mode": {
    "name": "ipython",
    "version": 3
   },
   "file_extension": ".py",
   "mimetype": "text/x-python",
   "name": "python",
   "nbconvert_exporter": "python",
   "pygments_lexer": "ipython3",
   "version": "3.10.8"
  }
 },
 "nbformat": 4,
 "nbformat_minor": 5
}
